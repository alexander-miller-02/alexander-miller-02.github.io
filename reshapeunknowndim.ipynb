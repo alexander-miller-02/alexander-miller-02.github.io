{
  "cells": [
    {
      "cell_type": "markdown",
      "metadata": {
        "id": "view-in-github",
        "colab_type": "text"
      },
      "source": [
        "<a href=\"https://colab.research.google.com/github/alexander-miller-02/alexander-miller-02.github.io/blob/main/reshapeunknowndim.ipynb\" target=\"_parent\"><img src=\"https://colab.research.google.com/assets/colab-badge.svg\" alt=\"Open In Colab\"/></a>"
      ]
    },
    {
      "cell_type": "code",
      "source": [
        "import matplotlib.pyplot as plt\n",
        "import numpy as np\n",
        "import seaborn as sns\n",
        "import pandas as pd\n",
        "\n",
        "vol=0.001\n",
        "rand = 0.5\n",
        "n=100000\n",
        "trainsize = 300\n",
        "samples = 500\n",
        "\n",
        "time = np.arange(n)\n",
        "value = [0]*len(time)\n",
        "\n",
        "value[0] = 1\n",
        "\n",
        "for i in range(len(time)-1):\n",
        "  value[i+1] = value[i]+vol*(np.random.standard_t(df=3))\n",
        "\n",
        "X = np.zeros((samples, trainsize))\n",
        "y = np.zeros((samples))\n",
        "\n",
        "for i in range(samples):\n",
        "  start = np.random.randint(0,len(value)-1-trainsize)\n",
        "  X[i] = value[start:start+trainsize]\n",
        "  y[i] = value[start+trainsize]\n",
        "\n"
      ],
      "metadata": {
        "id": "39xElO6NwJkN",
        "outputId": "c3b9dd88-db46-449e-ae25-fe1c85d6734f",
        "colab": {
          "base_uri": "https://localhost:8080/"
        },
        "collapsed": true
      },
      "execution_count": 492,
      "outputs": [
        {
          "output_type": "execute_result",
          "data": {
            "text/plain": [
              "(500,)"
            ]
          },
          "metadata": {},
          "execution_count": 492
        }
      ]
    },
    {
      "cell_type": "code",
      "source": [
        "\n"
      ],
      "metadata": {
        "colab": {
          "base_uri": "https://localhost:8080/"
        },
        "id": "bKT1MEwdiRcG",
        "outputId": "ace083f0-8e50-4ba5-8f69-7d1a1ffa5291"
      },
      "execution_count": 487,
      "outputs": [
        {
          "output_type": "stream",
          "name": "stdout",
          "text": [
            "[1.28385487 1.28438444 1.28429379] 1.2844848030375227\n"
          ]
        }
      ]
    },
    {
      "cell_type": "code",
      "source": [],
      "metadata": {
        "id": "nCxzTs_Elq-Q"
      },
      "execution_count": null,
      "outputs": []
    }
  ],
  "metadata": {
    "colab": {
      "name": "Welcome To Colab",
      "provenance": [],
      "include_colab_link": true
    },
    "kernelspec": {
      "display_name": "Python 3",
      "name": "python3"
    }
  },
  "nbformat": 4,
  "nbformat_minor": 0
}